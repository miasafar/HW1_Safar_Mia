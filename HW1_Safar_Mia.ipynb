{
 "cells": [
  {
   "cell_type": "code",
   "execution_count": 3,
   "id": "be64cfbe",
   "metadata": {},
   "outputs": [
    {
     "name": "stdout",
     "output_type": "stream",
     "text": [
      "[30, 35, 40, 45, 50, 55, 60]\n"
     ]
    }
   ],
   "source": [
    "numbers= list(range(30,65,5))\n",
    "print(numbers)"
   ]
  },
  {
   "cell_type": "code",
   "execution_count": 4,
   "id": "5c9f5c68",
   "metadata": {},
   "outputs": [
    {
     "name": "stdout",
     "output_type": "stream",
     "text": [
      "[60, 55, 50, 45, 40, 35, 30]\n"
     ]
    }
   ],
   "source": [
    "numbers.sort(reverse=True)\n",
    "print(numbers)"
   ]
  },
  {
   "cell_type": "code",
   "execution_count": 27,
   "id": "31ec9888",
   "metadata": {},
   "outputs": [
    {
     "name": "stdout",
     "output_type": "stream",
     "text": [
      "[0, 1, 2, 3, 4, 5, 6, 7, 8, 9, 10, 11, 12, 13, 14, 15, 16, 17, 18, 19, 20]\n"
     ]
    }
   ],
   "source": [
    "numbers = list(range(0,21))\n",
    "print(numbers)\n"
   ]
  },
  {
   "cell_type": "code",
   "execution_count": 28,
   "id": "2406c300",
   "metadata": {},
   "outputs": [
    {
     "name": "stdout",
     "output_type": "stream",
     "text": [
      "[1, 2, 3, 4, 5, 6, 7, 8, 9, 10, 11, 12, 13, 14, 15, 16, 17, 18, 19, 20]\n"
     ]
    }
   ],
   "source": [
    "del numbers[0]\n",
    "print(numbers)\n"
   ]
  },
  {
   "cell_type": "code",
   "execution_count": 29,
   "id": "d614a134",
   "metadata": {},
   "outputs": [
    {
     "name": "stdout",
     "output_type": "stream",
     "text": [
      "20\n",
      "20\n",
      "1\n"
     ]
    }
   ],
   "source": [
    "print(len(numbers)) #number of items in the list\n",
    "print(max(numbers)) #maximum value within the list\n",
    "print(min(numbers)) #minimum value within the list"
   ]
  },
  {
   "cell_type": "code",
   "execution_count": 30,
   "id": "35b28442",
   "metadata": {},
   "outputs": [
    {
     "data": {
      "text/plain": [
       "220"
      ]
     },
     "execution_count": 30,
     "metadata": {},
     "output_type": "execute_result"
    }
   ],
   "source": [
    "numbers[1]+numbers[2]+numbers[3]+numbers[4]+numbers[5]+numbers[6]+numbers[7]+numbers[8]+numbers[9]+numbers[10]+numbers[11]+numbers[12]+numbers[13]+numbers[14]+numbers[15]+numbers[16]+numbers[17]+numbers[18]+numbers[19]+numbers[10]"
   ]
  },
  {
   "cell_type": "code",
   "execution_count": 32,
   "id": "cbbd437e",
   "metadata": {},
   "outputs": [
    {
     "name": "stdout",
     "output_type": "stream",
     "text": [
      "{'Sunny': 'Play', 'Rainy': 'Watch TV', 'Cloudy': 'Walk'}\n"
     ]
    }
   ],
   "source": [
    "activity_and_weather = {\"Sunny\": \"Play\", \"Rainy\": \"Watch TV\", \"Cloudy\": \"Walk\"}\n",
    "print(activity_and_weather)"
   ]
  },
  {
   "cell_type": "code",
   "execution_count": 33,
   "id": "32231735",
   "metadata": {},
   "outputs": [
    {
     "name": "stdout",
     "output_type": "stream",
     "text": [
      "dict_keys(['Sunny', 'Rainy', 'Cloudy'])\n"
     ]
    }
   ],
   "source": [
    "print(activity_and_weather.keys())"
   ]
  },
  {
   "cell_type": "code",
   "execution_count": 34,
   "id": "936c17d5",
   "metadata": {},
   "outputs": [
    {
     "name": "stdout",
     "output_type": "stream",
     "text": [
      "dict_values(['Play', 'Watch TV', 'Walk'])\n"
     ]
    }
   ],
   "source": [
    "print(activity_and_weather.values())"
   ]
  },
  {
   "cell_type": "code",
   "execution_count": 37,
   "id": "d75ad0c5",
   "metadata": {},
   "outputs": [
    {
     "name": "stdout",
     "output_type": "stream",
     "text": [
      " when Sunny let us Play \n",
      " when Rainy let us Watch TV \n",
      " when Cloudy let us Walk \n"
     ]
    }
   ],
   "source": [
    "for weather, activity in activity_and_weather.items():\n",
    "    print(f' when {weather} let us {activity} ')\n",
    "    \n",
    "          "
   ]
  },
  {
   "cell_type": "code",
   "execution_count": 38,
   "id": "869ee8d3",
   "metadata": {},
   "outputs": [
    {
     "name": "stdout",
     "output_type": "stream",
     "text": [
      "{'Sunny': 'Play', 'Rainy': 'Watch TV', 'Cloudy': 'Walk', 'Snowy': 'Ski'}\n"
     ]
    }
   ],
   "source": [
    "activity_and_weather[\"Snowy\"] = \"Ski\"\n",
    "print(activity_and_weather)"
   ]
  },
  {
   "cell_type": "code",
   "execution_count": 39,
   "id": "16a43630",
   "metadata": {},
   "outputs": [
    {
     "name": "stdout",
     "output_type": "stream",
     "text": [
      " when Sunny let us Play \n",
      " when Rainy let us Watch TV \n",
      " when Cloudy let us Walk \n",
      " when Snowy let us Ski \n"
     ]
    }
   ],
   "source": [
    "for weather, activity in activity_and_weather.items():\n",
    "    print(f' when {weather} let us {activity} ')"
   ]
  },
  {
   "cell_type": "code",
   "execution_count": null,
   "id": "3f276b8c",
   "metadata": {},
   "outputs": [],
   "source": []
  }
 ],
 "metadata": {
  "kernelspec": {
   "display_name": "Python 3 (ipykernel)",
   "language": "python",
   "name": "python3"
  },
  "language_info": {
   "codemirror_mode": {
    "name": "ipython",
    "version": 3
   },
   "file_extension": ".py",
   "mimetype": "text/x-python",
   "name": "python",
   "nbconvert_exporter": "python",
   "pygments_lexer": "ipython3",
   "version": "3.9.13"
  }
 },
 "nbformat": 4,
 "nbformat_minor": 5
}
